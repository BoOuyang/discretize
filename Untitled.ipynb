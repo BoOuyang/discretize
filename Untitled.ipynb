{
 "cells": [
  {
   "cell_type": "code",
   "execution_count": 1,
   "metadata": {
    "collapsed": false
   },
   "outputs": [],
   "source": [
    "import discretize\n",
    "from discretize import utils\n",
    "import numpy as np\n",
    "import scipy.sparse as sp\n",
    "\n",
    "import matplotlib.pyplot as plt\n",
    "\n",
    "%matplotlib inline"
   ]
  },
  {
   "cell_type": "code",
   "execution_count": 2,
   "metadata": {
    "collapsed": false
   },
   "outputs": [],
   "source": [
    "# hx = Utils.meshTensor([(1, 2)])\n",
    "hx = np.r_[1.]\n",
    "hz = np.r_[1.]\n",
    "htheta = utils.meshTensor([(1., 4)])\n",
    "htheta = htheta * 2*np.pi / htheta.sum()\n",
    "\n",
    "mesh = discretize.CylMesh([hx, htheta, hz])"
   ]
  },
  {
   "cell_type": "code",
   "execution_count": 3,
   "metadata": {
    "collapsed": false
   },
   "outputs": [],
   "source": [
    "V = mesh.vol\n",
    "utils.sdiag(1/V)\n",
    "dTheta = utils.ddx(mesh.nCy)[:,:-1] + sp.csr_matrix((np.r_[1.], (np.r_[mesh.nCy-1], np.r_[0])), shape=(mesh.nCy, mesh.nCy))\n",
    "D2 = utils.kron3(\n",
    "    utils.speye(mesh.nCz),\n",
    "    dTheta,\n",
    "    utils.speye(mesh.nCx)\n",
    "            )\n",
    "S = mesh.r(mesh.area, 'F', 'Fy', 'V')"
   ]
  },
  {
   "cell_type": "code",
   "execution_count": 4,
   "metadata": {
    "collapsed": true
   },
   "outputs": [],
   "source": [
    "self = mesh"
   ]
  },
  {
   "cell_type": "code",
   "execution_count": 5,
   "metadata": {
    "collapsed": false
   },
   "outputs": [],
   "source": [
    "### Curl that lands on R-faces ###\n",
    "# Theta contribution\n",
    "Dt_r = utils.kron3(\n",
    "    utils.ddx(self.nCz),\n",
    "    utils.speye(self.nCy),\n",
    "    utils.speye(self.nCx)\n",
    ")\n",
    "ddxz = utils.ddx(self.nCy)[:,:-1] + sp.csr_matrix((np.r_[1.], (np.r_[self.nCy-1], np.r_[0])), shape=(self.nCy, self.nCy))\n",
    "# ddxz = sp.hstack([utils.spzeros(self.nCy, 1), ddxz])\n",
    "\n",
    "Dz_r = sp.kron(ddxz, utils.speye(self.nCx))\n",
    "Dz_r = sp.hstack([utils.spzeros(self.vnC[:2].prod(), 1), Dz_r])\n",
    "Dz_r = sp.kron(utils.speye(self.nCz), Dz_r)\n",
    "\n",
    "# Z contribution\n",
    "# Dz_r = sp.hstack([utils.spzeros(self.vnF[1], 1), ddxz])\n",
    "\n",
    "# Zeros of the right size\n",
    "O1 = utils.spzeros(self.nFx, self.nEx)\n",
    "\n",
    "# R-contribution to Curl\n",
    "Cr = sp.hstack((O1, -Dt_r, Dz_r))\n"
   ]
  },
  {
   "cell_type": "code",
   "execution_count": 6,
   "metadata": {
    "collapsed": false
   },
   "outputs": [],
   "source": [
    "# gridEz = super(CylMesh, self).gridEz\n",
    "gridEz = utils.ndgrid([self.vectorNx , self.vectorNy , self.vectorCCz])\n",
    "\n",
    "removeme = np.arange(self.vnN[0], self.vnN[:2].prod(), step=self.vnN[0])\n",
    "keepme = np.ones(self.vnN[:2].prod(), dtype=bool)\n",
    "keepme[removeme] = False\n",
    "# gridEz = gridEz[keepme, :]"
   ]
  },
  {
   "cell_type": "code",
   "execution_count": 18,
   "metadata": {
    "collapsed": false
   },
   "outputs": [
    {
     "name": "stdout",
     "output_type": "stream",
     "text": [
      "[8 8 5] [4 4 8]\n"
     ]
    }
   ],
   "source": [
    "print self.vnE, self.vnF"
   ]
  },
  {
   "cell_type": "code",
   "execution_count": 19,
   "metadata": {
    "collapsed": false
   },
   "outputs": [
    {
     "data": {
      "text/plain": [
       "<matplotlib.colorbar.Colorbar at 0x110a2b3d0>"
      ]
     },
     "execution_count": 19,
     "metadata": {},
     "output_type": "execute_result"
    },
    {
     "data": {
      "image/png": "[encoded data removed]",
      "text/plain": [
       "<matplotlib.figure.Figure at 0x11085a990>"
      ]
     },
     "metadata": {},
     "output_type": "display_data"
    }
   ],
   "source": [
    "plt.colorbar(plt.imshow(mesh.edgeCurl.todense(), interpolation='None'))"
   ]
  },
  {
   "cell_type": "code",
   "execution_count": 21,
   "metadata": {
    "collapsed": false
   },
   "outputs": [],
   "source": [
    "name = \"edgeCurl\"\n",
    "meshDimension = 3\n",
    "meshSizes = [4, 8, 16, 32, 64]"
   ]
  },
  {
   "cell_type": "code",
   "execution_count": 22,
   "metadata": {
    "collapsed": false
   },
   "outputs": [],
   "source": [
    "ind = 0\n",
    "h = [meshSizes[ind], meshSizes[ind], meshSizes[ind]]\n",
    "self.M = mesh #discretize.CylMesh(h)"
   ]
  },
  {
   "cell_type": "code",
   "execution_count": 24,
   "metadata": {
    "collapsed": true
   },
   "outputs": [],
   "source": [
    "call2 = lambda fun, xyz: fun(xyz[:, 0], xyz[:, 2])\n",
    "call3 = lambda fun, xyz: fun(xyz[:, 0], xyz[:, 1], xyz[:, 2])\n",
    "cyl_row2 = lambda g, xfun, yfun: np.c_[call2(xfun, g), call2(yfun, g)]\n",
    "cyl_row3 = lambda g, xfun, yfun, zfun: np.c_[call3(xfun, g), call3(yfun, g), call3(zfun, g)]\n",
    "cylF2 = lambda M, fx, fy: np.vstack((\n",
    "    cyl_row2(M.gridFx, fx, fy), cyl_row2(M.gridFz, fx, fy)\n",
    "))\n",
    "cylF3 = lambda M, fx, fy, fz: np.vstack((\n",
    "    cyl_row3(M.gridFx, fx, fy, fz),\n",
    "    cyl_row3(M.gridFy, fx, fy, fz),\n",
    "    cyl_row3(M.gridFz, fx, fy, fz)\n",
    "))\n",
    "cylE3 = lambda M, ex, ey, ez: np.vstack((\n",
    "    cyl_row3(M.gridEx, ex, ey, ez),\n",
    "    cyl_row3(M.gridEy, ex, ey, ez),\n",
    "    cyl_row3(M.gridEz, ex, ey, ez)\n",
    "))"
   ]
  },
  {
   "cell_type": "code",
   "execution_count": 25,
   "metadata": {
    "collapsed": false
   },
   "outputs": [],
   "source": [
    " # use the same function in r, t, z\n",
    "fun = lambda r, t, z: (\n",
    "    np.sin(2.*np.pi*r) * np.sin(t) * np.sin(2.*np.pi*z)\n",
    ")\n",
    "\n",
    "deriv_r = lambda r, t, z: (\n",
    "    2*np.pi*np.cos(2.*np.pi*r) * np.sin(t) * np.sin(2.*np.pi*z)\n",
    ")\n",
    "deriv_t = lambda r, t, z: (\n",
    "    np.sin(2.*np.pi*r) * np.cos(t) * np.sin(2.*np.pi*z)\n",
    ")\n",
    "deriv_z = lambda r, t, z: (\n",
    "    2.*np.pi * np.sin(2.*np.pi*r) * np.sin(t) * np.cos(2.*np.pi*z)\n",
    ")\n",
    "\n",
    "sol_r = lambda r, t, z: 1./r * deriv_t(r, t, z) - deriv_z(r, t, z)\n",
    "sol_t = lambda r, t, z: deriv_z(r, t, z) - deriv_r(r, t, z)\n",
    "sol_z = lambda r, t, z: 1/r * (\n",
    "    deriv_r(r, t, z) + fun(r, t, z) - deriv_t(r, t, z)\n",
    ")\n",
    "\n",
    "Ec = cylE3(self.M, fun, fun, fun)\n",
    "E = self.M.projectEdgeVector(Ec)\n",
    "curlE_num = self.M.edgeCurl * E\n",
    "\n",
    "Fc = cylF3(self.M, sol_r, sol_t, sol_z)\n",
    "curlE_ana = self.M.projectFaceVector(Fc)"
   ]
  },
  {
   "cell_type": "code",
   "execution_count": 44,
   "metadata": {
    "collapsed": false
   },
   "outputs": [
    {
     "data": {
      "text/plain": [
       "array([ 1.,  1.,  1.,  1.,  1.])"
      ]
     },
     "execution_count": 44,
     "metadata": {},
     "output_type": "execute_result"
    }
   ],
   "source": [
    "mesh.edge[mesh.vnE[:2].sum():] #==\n",
    "#                 np.kron(self.mesh.hz, np.ones(self.mesh.nCy))"
   ]
  },
  {
   "cell_type": "code",
   "execution_count": 40,
   "metadata": {
    "collapsed": false
   },
   "outputs": [
    {
     "name": "stdout",
     "output_type": "stream",
     "text": [
      "[ 1.57079633  1.57079633  1.57079633  1.57079633  1.57079633  1.57079633\n",
      "  1.57079633  1.57079633]\n",
      "[ 1.57079633  1.57079633  1.57079633  1.57079633  1.57079633  1.57079633\n",
      "  1.57079633  1.57079633]\n"
     ]
    }
   ],
   "source": [
    "print mesh.edge[mesh.vnE[0]:mesh.vnE[:2].sum()]\n",
    "print np.kron(np.ones(mesh.nCz+1), mesh.hx*mesh.hy)"
   ]
  },
  {
   "cell_type": "code",
   "execution_count": 46,
   "metadata": {
    "collapsed": false
   },
   "outputs": [
    {
     "data": {
      "text/plain": [
       "array([ 1.,  1.,  1.,  1.])"
      ]
     },
     "execution_count": 46,
     "metadata": {},
     "output_type": "execute_result"
    }
   ],
   "source": [
    "np.kron(mesh.hz, np.ones(mesh.nCy))"
   ]
  },
  {
   "cell_type": "code",
   "execution_count": 63,
   "metadata": {
    "collapsed": false
   },
   "outputs": [
    {
     "data": {
      "text/plain": [
       "<16x21 sparse matrix of type '<type 'numpy.float64'>'\n",
       "\twith 56 stored elements in Compressed Sparse Row format>"
      ]
     },
     "execution_count": 63,
     "metadata": {},
     "output_type": "execute_result"
    }
   ],
   "source": [
    "mesh.edgeCurl"
   ]
  },
  {
   "cell_type": "code",
   "execution_count": 30,
   "metadata": {
    "collapsed": false
   },
   "outputs": [
    {
     "data": {
      "text/plain": [
       "[<matplotlib.lines.Line2D at 0x110d711d0>]"
      ]
     },
     "execution_count": 30,
     "metadata": {},
     "output_type": "execute_result"
    },
    {
     "data": {
      "image/png": "[encoded data removed]",
      "text/plain": [
       "<matplotlib.figure.Figure at 0x110d71b10>"
      ]
     },
     "metadata": {},
     "output_type": "display_data"
    }
   ],
   "source": [
    "plt.plot(curlE_num[mesh.vnF[2]:]) #[mesh.vnF[:2].sum():])#[:1000])\n",
    "plt.plot(curlE_ana[mesh.vnF[2]:]) #[mesh.vnF[:2].sum():])#[:1000])"
   ]
  },
  {
   "cell_type": "code",
   "execution_count": 11,
   "metadata": {
    "collapsed": false
   },
   "outputs": [
    {
     "data": {
      "text/plain": [
       "<2x2 sparse matrix of type '<type 'numpy.float64'>'\n",
       "\twith 2 stored elements in Compressed Sparse Row format>"
      ]
     },
     "execution_count": 11,
     "metadata": {},
     "output_type": "execute_result"
    }
   ],
   "source": [
    "utils.speye(mesh.nCx)"
   ]
  },
  {
   "cell_type": "code",
   "execution_count": 12,
   "metadata": {
    "collapsed": false
   },
   "outputs": [
    {
     "data": {
      "text/plain": [
       "(18, 24)"
      ]
     },
     "execution_count": 12,
     "metadata": {},
     "output_type": "execute_result"
    }
   ],
   "source": [
    "keepme.shape"
   ]
  },
  {
   "cell_type": "code",
   "execution_count": 13,
   "metadata": {
    "collapsed": false
   },
   "outputs": [
    {
     "data": {
      "text/plain": [
       "(24, 3)"
      ]
     },
     "execution_count": 13,
     "metadata": {},
     "output_type": "execute_result"
    }
   ],
   "source": [
    "gridEz.shape"
   ]
  },
  {
   "cell_type": "code",
   "execution_count": 20,
   "metadata": {
    "collapsed": false
   },
   "outputs": [
    {
     "data": {
      "text/plain": [
       "(24, 3)"
      ]
     },
     "execution_count": 20,
     "metadata": {},
     "output_type": "execute_result"
    }
   ],
   "source": [
    "self.gridEx.shape"
   ]
  },
  {
   "cell_type": "code",
   "execution_count": 18,
   "metadata": {
    "collapsed": false
   },
   "outputs": [
    {
     "data": {
      "text/plain": [
       "array([24, 24, 18])"
      ]
     },
     "execution_count": 18,
     "metadata": {},
     "output_type": "execute_result"
    }
   ],
   "source": [
    "mesh.vnE"
   ]
  },
  {
   "cell_type": "code",
   "execution_count": 73,
   "metadata": {
    "collapsed": false
   },
   "outputs": [
    {
     "data": {
      "text/plain": [
       "<matplotlib.image.AxesImage at 0x10fd7bcd0>"
      ]
     },
     "execution_count": 73,
     "metadata": {},
     "output_type": "execute_result"
    },
    {
     "data": {
      "image/png": "[encoded data removed]",
      "text/plain": [
       "<matplotlib.figure.Figure at 0x10fc2b3d0>"
      ]
     },
     "metadata": {},
     "output_type": "display_data"
    }
   ],
   "source": [
    "plt.imshow(Cr.todense(), interpolation='None')"
   ]
  },
  {
   "cell_type": "code",
   "execution_count": 9,
   "metadata": {
    "collapsed": false
   },
   "outputs": [
    {
     "data": {
      "text/plain": [
       "<matplotlib.image.AxesImage at 0x10cabaf10>"
      ]
     },
     "execution_count": 9,
     "metadata": {},
     "output_type": "execute_result"
    },
    {
     "data": {
      "image/png": "[encoded data removed]",
      "text/plain": [
       "<matplotlib.figure.Figure at 0x10be68850>"
      ]
     },
     "metadata": {},
     "output_type": "display_data"
    }
   ],
   "source": [
    "plt.imshow(ddxz.todense(), interpolation='None')"
   ]
  },
  {
   "cell_type": "code",
   "execution_count": 10,
   "metadata": {
    "collapsed": false
   },
   "outputs": [
    {
     "name": "stdout",
     "output_type": "stream",
     "text": [
      "(16, 18) (16, 24) (16, 24)\n",
      "[24 24 18]\n",
      "24 16\n"
     ]
    }
   ],
   "source": [
    "print Dz_r.shape, Dt_r.shape, O1.shape\n",
    "print mesh.vnE\n",
    "print self.nEx, self.nFx"
   ]
  },
  {
   "cell_type": "code",
   "execution_count": 11,
   "metadata": {
    "collapsed": false
   },
   "outputs": [
    {
     "data": {
      "text/plain": [
       "<matplotlib.image.AxesImage at 0x10cb93710>"
      ]
     },
     "execution_count": 11,
     "metadata": {},
     "output_type": "execute_result"
    },
    {
     "data": {
      "image/png": "[encoded data removed]",
      "text/plain": [
       "<matplotlib.figure.Figure at 0x10cad7490>"
      ]
     },
     "metadata": {},
     "output_type": "display_data"
    }
   ],
   "source": [
    "plt.imshow(Cr.todense(), interpolation='None')"
   ]
  },
  {
   "cell_type": "code",
   "execution_count": 12,
   "metadata": {
    "collapsed": false
   },
   "outputs": [
    {
     "data": {
      "text/plain": [
       "<matplotlib.image.AxesImage at 0x10cca3510>"
      ]
     },
     "execution_count": 12,
     "metadata": {},
     "output_type": "execute_result"
    },
    {
     "data": {
      "image/png": "[encoded data removed]",
      "text/plain": [
       "<matplotlib.figure.Figure at 0x10bde7d10>"
      ]
     },
     "metadata": {},
     "output_type": "display_data"
    }
   ],
   "source": [
    "plt.imshow(self.edgeCurl.todense(), interpolation='None')"
   ]
  },
  {
   "cell_type": "code",
   "execution_count": 13,
   "metadata": {
    "collapsed": false
   },
   "outputs": [
    {
     "data": {
      "text/plain": [
       "(24, 3)"
      ]
     },
     "execution_count": 13,
     "metadata": {},
     "output_type": "execute_result"
    }
   ],
   "source": [
    "mesh.gridEx.shape"
   ]
  },
  {
   "cell_type": "code",
   "execution_count": 14,
   "metadata": {
    "collapsed": false
   },
   "outputs": [
    {
     "data": {
      "text/plain": [
       "(24, 3)"
      ]
     },
     "execution_count": 14,
     "metadata": {},
     "output_type": "execute_result"
    }
   ],
   "source": [
    "mesh.gridEy.shape"
   ]
  },
  {
   "cell_type": "code",
   "execution_count": 24,
   "metadata": {
    "collapsed": false
   },
   "outputs": [
    {
     "data": {
      "text/plain": [
       "array([24, 24, 18])"
      ]
     },
     "execution_count": 24,
     "metadata": {},
     "output_type": "execute_result"
    }
   ],
   "source": [
    "mesh.vnE"
   ]
  },
  {
   "cell_type": "code",
   "execution_count": 22,
   "metadata": {
    "collapsed": false
   },
   "outputs": [
    {
     "data": {
      "text/plain": [
       "(24, 3)"
      ]
     },
     "execution_count": 22,
     "metadata": {},
     "output_type": "execute_result"
    }
   ],
   "source": [
    "mesh.gridEz.shape"
   ]
  },
  {
   "cell_type": "code",
   "execution_count": 25,
   "metadata": {
    "collapsed": false
   },
   "outputs": [
    {
     "data": {
      "text/plain": [
       "array([2, 4, 2])"
      ]
     },
     "execution_count": 25,
     "metadata": {},
     "output_type": "execute_result"
    }
   ],
   "source": [
    "mesh.vnC"
   ]
  },
  {
   "cell_type": "code",
   "execution_count": 30,
   "metadata": {
    "collapsed": false
   },
   "outputs": [
    {
     "data": {
      "text/plain": [
       "24"
      ]
     },
     "execution_count": 30,
     "metadata": {},
     "output_type": "execute_result"
    }
   ],
   "source": []
  },
  {
   "cell_type": "code",
   "execution_count": 31,
   "metadata": {
    "collapsed": false
   },
   "outputs": [
    {
     "data": {
      "text/plain": [
       "array([24, 24, 18])"
      ]
     },
     "execution_count": 31,
     "metadata": {},
     "output_type": "execute_result"
    }
   ],
   "source": [
    "mesh.vnE"
   ]
  },
  {
   "cell_type": "code",
   "execution_count": 41,
   "metadata": {
    "collapsed": false
   },
   "outputs": [
    {
     "name": "stdout",
     "output_type": "stream",
     "text": [
      "[[ 0.          0.          0.5       ]\n",
      " [ 1.          0.          0.5       ]\n",
      " [ 2.          0.          0.5       ]\n",
      " [ 1.          1.57079633  0.5       ]\n",
      " [ 2.          1.57079633  0.5       ]\n",
      " [ 1.          3.14159265  0.5       ]\n",
      " [ 2.          3.14159265  0.5       ]\n",
      " [ 1.          4.71238898  0.5       ]\n",
      " [ 2.          4.71238898  0.5       ]\n",
      " [ 0.          0.          1.5       ]\n",
      " [ 1.          0.          1.5       ]\n",
      " [ 2.          0.          1.5       ]\n",
      " [ 0.          1.57079633  1.5       ]\n",
      " [ 1.          1.57079633  1.5       ]\n",
      " [ 2.          1.57079633  1.5       ]\n",
      " [ 0.          3.14159265  1.5       ]\n",
      " [ 1.          3.14159265  1.5       ]\n",
      " [ 2.          3.14159265  1.5       ]\n",
      " [ 0.          4.71238898  1.5       ]\n",
      " [ 1.          4.71238898  1.5       ]\n",
      " [ 2.          4.71238898  1.5       ]]\n"
     ]
    }
   ],
   "source": [
    "removeme = np.arange(mesh.vnN[0], mesh.vnN[:2].prod(), step=mesh.vnN[0])\n",
    "edgeinds = np.ones(mesh.vnN[:2].prod()*mesh.vnC[2], dtype=bool)\n",
    "edgeinds[removeme] = False\n",
    "print mesh.gridEz[edgeinds, :]"
   ]
  },
  {
   "cell_type": "code",
   "execution_count": 37,
   "metadata": {
    "collapsed": false
   },
   "outputs": [
    {
     "data": {
      "text/plain": [
       "False"
      ]
     },
     "execution_count": 37,
     "metadata": {},
     "output_type": "execute_result"
    }
   ],
   "source": [
    "keepme"
   ]
  },
  {
   "cell_type": "code",
   "execution_count": null,
   "metadata": {
    "collapsed": true
   },
   "outputs": [],
   "source": [
    "\n",
    "### Curl that lands on T-faces ###\n",
    "# contribution from R\n",
    "Dr_t = utils.kron3(utils.ddx(self.nCz), utils.speye(self.nCy), utils.speye(self.nCx))\n",
    "\n",
    "# Zeros of the right size\n",
    "O2 = utils.spzeros(self.nFy, self.nEy)\n",
    "\n",
    "# contribution from Z\n",
    "ddxr = utils.ddx(self.nCx)\n",
    "Ddxr = sp.kron(utils.speye(self.nCy), ddxr[:,1:])\n",
    "wrap_z = sp.csr_matrix((-1*np.ones(self.nCy), (np.arange(0, self.vnC[:2].prod(), step=self.vnC[0]), np.zeros(self.nCy))), shape=(self.vnC[:2].prod(), 1))\n",
    "Dz_t = sp.kron(utils.speye(self.nCz), sp.hstack([wrap_z, Ddxr]))\n",
    "\n",
    "# T-contribution to the Curl\n",
    "Ct = sp.hstack((Dr_t, O2, -Dz_t))\n",
    "\n",
    "### Curl that lands on the Z-faces ###\n",
    "# contribution from R\n",
    "ddxz = utils.ddx(self.nCy)[:,:-1] + sp.csr_matrix((np.r_[1.], (np.r_[self.nCy-1], np.r_[0])), shape=(self.nCy, self.nCy))\n",
    "Dr_z = utils.kron3(ddxz, utils.speye(self.nCz+1), utils.speye(self.nCx))\n",
    "# = sp.kron(utils.speye(self.nCz+1), ddxz)\n",
    "\n",
    "# contribution from T\n",
    "ddxt = utils.ddx(self.nCx)[:,1:]\n",
    "Dt_z = utils.kron3(\n",
    "    utils.speye(self.nCz+1), utils.speye(self.nCy), ddxt\n",
    ")\n",
    "\n",
    "# Zeros of the right size\n",
    "O3 = utils.spzeros(self.nFz, self.nEz)\n",
    "\n",
    "# Z contribution to the curl\n",
    "Cz = sp.hstack((Dr_z, Dt_z, O3))\n",
    "\n",
    "self._edgeCurl = (\n",
    "    utils.sdiag(1/A) *\n",
    "    sp.vstack([Cr, Ct, Cz], format=\"csr\") *\n",
    "    utils.sdiag(E)\n",
    ")"
   ]
  },
  {
   "cell_type": "code",
   "execution_count": 4,
   "metadata": {
    "collapsed": false
   },
   "outputs": [
    {
     "ename": "ValueError",
     "evalue": "blocks[:,0] has incompatible column dimensions",
     "output_type": "error",
     "traceback": [
      "\u001b[0;31m---------------------------------------------------------------------------\u001b[0m",
      "\u001b[0;31mValueError\u001b[0m                                Traceback (most recent call last)",
      "\u001b[0;32m<ipython-input-4-02b00d2d41b4>\u001b[0m in \u001b[0;36m<module>\u001b[0;34m()\u001b[0m\n\u001b[0;32m----> 1\u001b[0;31m \u001b[0mplt\u001b[0m\u001b[0;34m.\u001b[0m\u001b[0mimshow\u001b[0m\u001b[0;34m(\u001b[0m\u001b[0mmesh\u001b[0m\u001b[0;34m.\u001b[0m\u001b[0medgeCurl\u001b[0m\u001b[0;34m.\u001b[0m\u001b[0mtodense\u001b[0m\u001b[0;34m(\u001b[0m\u001b[0;34m)\u001b[0m\u001b[0;34m,\u001b[0m \u001b[0minterpolation\u001b[0m\u001b[0;34m=\u001b[0m\u001b[0;34m'None'\u001b[0m\u001b[0;34m)\u001b[0m\u001b[0;34m\u001b[0m\u001b[0m\n\u001b[0m",
      "\u001b[0;32m/Users/lindseyjh/git/simpeg/discretize/discretize/CylMesh.py\u001b[0m in \u001b[0;36medgeCurl\u001b[0;34m(self)\u001b[0m\n\u001b[1;32m    420\u001b[0m                 self._edgeCurl = (\n\u001b[1;32m    421\u001b[0m                     \u001b[0mutils\u001b[0m\u001b[0;34m.\u001b[0m\u001b[0msdiag\u001b[0m\u001b[0;34m(\u001b[0m\u001b[0;36m1\u001b[0m\u001b[0;34m/\u001b[0m\u001b[0mA\u001b[0m\u001b[0;34m)\u001b[0m \u001b[0;34m*\u001b[0m\u001b[0;34m\u001b[0m\u001b[0m\n\u001b[0;32m--> 422\u001b[0;31m                     \u001b[0msp\u001b[0m\u001b[0;34m.\u001b[0m\u001b[0mvstack\u001b[0m\u001b[0;34m(\u001b[0m\u001b[0;34m[\u001b[0m\u001b[0mCr\u001b[0m\u001b[0;34m,\u001b[0m \u001b[0mCt\u001b[0m\u001b[0;34m,\u001b[0m \u001b[0mCz\u001b[0m\u001b[0;34m]\u001b[0m\u001b[0;34m,\u001b[0m \u001b[0mformat\u001b[0m\u001b[0;34m=\u001b[0m\u001b[0;34m\"csr\"\u001b[0m\u001b[0;34m)\u001b[0m \u001b[0;34m*\u001b[0m\u001b[0;34m\u001b[0m\u001b[0m\n\u001b[0m\u001b[1;32m    423\u001b[0m                     \u001b[0mutils\u001b[0m\u001b[0;34m.\u001b[0m\u001b[0msdiag\u001b[0m\u001b[0;34m(\u001b[0m\u001b[0mE\u001b[0m\u001b[0;34m)\u001b[0m\u001b[0;34m\u001b[0m\u001b[0m\n\u001b[1;32m    424\u001b[0m                 )\n",
      "\u001b[0;32m//anaconda/lib/python2.7/site-packages/scipy/sparse/construct.pyc\u001b[0m in \u001b[0;36mvstack\u001b[0;34m(blocks, format, dtype)\u001b[0m\n\u001b[1;32m    496\u001b[0m \u001b[0;34m\u001b[0m\u001b[0m\n\u001b[1;32m    497\u001b[0m     \"\"\"\n\u001b[0;32m--> 498\u001b[0;31m     \u001b[0;32mreturn\u001b[0m \u001b[0mbmat\u001b[0m\u001b[0;34m(\u001b[0m\u001b[0;34m[\u001b[0m\u001b[0;34m[\u001b[0m\u001b[0mb\u001b[0m\u001b[0;34m]\u001b[0m \u001b[0;32mfor\u001b[0m \u001b[0mb\u001b[0m \u001b[0;32min\u001b[0m \u001b[0mblocks\u001b[0m\u001b[0;34m]\u001b[0m\u001b[0;34m,\u001b[0m \u001b[0mformat\u001b[0m\u001b[0;34m=\u001b[0m\u001b[0mformat\u001b[0m\u001b[0;34m,\u001b[0m \u001b[0mdtype\u001b[0m\u001b[0;34m=\u001b[0m\u001b[0mdtype\u001b[0m\u001b[0;34m)\u001b[0m\u001b[0;34m\u001b[0m\u001b[0m\n\u001b[0m\u001b[1;32m    499\u001b[0m \u001b[0;34m\u001b[0m\u001b[0m\n\u001b[1;32m    500\u001b[0m \u001b[0;34m\u001b[0m\u001b[0m\n",
      "\u001b[0;32m//anaconda/lib/python2.7/site-packages/scipy/sparse/construct.pyc\u001b[0m in \u001b[0;36mbmat\u001b[0;34m(blocks, format, dtype)\u001b[0m\n\u001b[1;32m    585\u001b[0m                 \u001b[0;32melif\u001b[0m \u001b[0mbcol_lengths\u001b[0m\u001b[0;34m[\u001b[0m\u001b[0mj\u001b[0m\u001b[0;34m]\u001b[0m \u001b[0;34m!=\u001b[0m \u001b[0mA\u001b[0m\u001b[0;34m.\u001b[0m\u001b[0mshape\u001b[0m\u001b[0;34m[\u001b[0m\u001b[0;36m1\u001b[0m\u001b[0;34m]\u001b[0m\u001b[0;34m:\u001b[0m\u001b[0;34m\u001b[0m\u001b[0m\n\u001b[1;32m    586\u001b[0m                     raise ValueError('blocks[:,%d] has incompatible '\n\u001b[0;32m--> 587\u001b[0;31m                                      'column dimensions' % j)\n\u001b[0m\u001b[1;32m    588\u001b[0m \u001b[0;34m\u001b[0m\u001b[0m\n\u001b[1;32m    589\u001b[0m     \u001b[0mnnz\u001b[0m \u001b[0;34m=\u001b[0m \u001b[0msum\u001b[0m\u001b[0;34m(\u001b[0m\u001b[0mblock\u001b[0m\u001b[0;34m.\u001b[0m\u001b[0mnnz\u001b[0m \u001b[0;32mfor\u001b[0m \u001b[0mblock\u001b[0m \u001b[0;32min\u001b[0m \u001b[0mblocks\u001b[0m\u001b[0;34m[\u001b[0m\u001b[0mblock_mask\u001b[0m\u001b[0;34m]\u001b[0m\u001b[0;34m)\u001b[0m\u001b[0;34m\u001b[0m\u001b[0m\n",
      "\u001b[0;31mValueError\u001b[0m: blocks[:,0] has incompatible column dimensions"
     ]
    }
   ],
   "source": [
    "plt.imshow(mesh.edgeCurl.todense(), interpolation='None')"
   ]
  },
  {
   "cell_type": "code",
   "execution_count": null,
   "metadata": {
    "collapsed": false
   },
   "outputs": [
    {
     "name": "stdout",
     "output_type": "stream",
     "text": [
      "> \u001b[0;32m//anaconda/lib/python2.7/site-packages/scipy/sparse/construct.py\u001b[0m(587)\u001b[0;36mbmat\u001b[0;34m()\u001b[0m\n",
      "\u001b[0;32m    585 \u001b[0;31m                \u001b[0;32melif\u001b[0m \u001b[0mbcol_lengths\u001b[0m\u001b[0;34m[\u001b[0m\u001b[0mj\u001b[0m\u001b[0;34m]\u001b[0m \u001b[0;34m!=\u001b[0m \u001b[0mA\u001b[0m\u001b[0;34m.\u001b[0m\u001b[0mshape\u001b[0m\u001b[0;34m[\u001b[0m\u001b[0;36m1\u001b[0m\u001b[0;34m]\u001b[0m\u001b[0;34m:\u001b[0m\u001b[0;34m\u001b[0m\u001b[0m\n",
      "\u001b[0m\u001b[0;32m    586 \u001b[0;31m                    raise ValueError('blocks[:,%d] has incompatible '\n",
      "\u001b[0m\u001b[0;32m--> 587 \u001b[0;31m                                     'column dimensions' % j)\n",
      "\u001b[0m\u001b[0;32m    588 \u001b[0;31m\u001b[0;34m\u001b[0m\u001b[0m\n",
      "\u001b[0m\u001b[0;32m    589 \u001b[0;31m    \u001b[0mnnz\u001b[0m \u001b[0;34m=\u001b[0m \u001b[0msum\u001b[0m\u001b[0;34m(\u001b[0m\u001b[0mblock\u001b[0m\u001b[0;34m.\u001b[0m\u001b[0mnnz\u001b[0m \u001b[0;32mfor\u001b[0m \u001b[0mblock\u001b[0m \u001b[0;32min\u001b[0m \u001b[0mblocks\u001b[0m\u001b[0;34m[\u001b[0m\u001b[0mblock_mask\u001b[0m\u001b[0;34m]\u001b[0m\u001b[0;34m)\u001b[0m\u001b[0;34m\u001b[0m\u001b[0m\n",
      "\u001b[0m\n",
      "ipdb> Cr.shape\n",
      "*** NameError: name 'Cr' is not defined\n",
      "ipdb> u\n",
      "> \u001b[0;32m//anaconda/lib/python2.7/site-packages/scipy/sparse/construct.py\u001b[0m(498)\u001b[0;36mvstack\u001b[0;34m()\u001b[0m\n",
      "\u001b[0;32m    496 \u001b[0;31m\u001b[0;34m\u001b[0m\u001b[0m\n",
      "\u001b[0m\u001b[0;32m    497 \u001b[0;31m    \"\"\"\n",
      "\u001b[0m\u001b[0;32m--> 498 \u001b[0;31m    \u001b[0;32mreturn\u001b[0m \u001b[0mbmat\u001b[0m\u001b[0;34m(\u001b[0m\u001b[0;34m[\u001b[0m\u001b[0;34m[\u001b[0m\u001b[0mb\u001b[0m\u001b[0;34m]\u001b[0m \u001b[0;32mfor\u001b[0m \u001b[0mb\u001b[0m \u001b[0;32min\u001b[0m \u001b[0mblocks\u001b[0m\u001b[0;34m]\u001b[0m\u001b[0;34m,\u001b[0m \u001b[0mformat\u001b[0m\u001b[0;34m=\u001b[0m\u001b[0mformat\u001b[0m\u001b[0;34m,\u001b[0m \u001b[0mdtype\u001b[0m\u001b[0;34m=\u001b[0m\u001b[0mdtype\u001b[0m\u001b[0;34m)\u001b[0m\u001b[0;34m\u001b[0m\u001b[0m\n",
      "\u001b[0m\u001b[0;32m    499 \u001b[0;31m\u001b[0;34m\u001b[0m\u001b[0m\n",
      "\u001b[0m\u001b[0;32m    500 \u001b[0;31m\u001b[0;34m\u001b[0m\u001b[0m\n",
      "\u001b[0m\n",
      "ipdb> u\n",
      "> \u001b[0;32m/Users/lindseyjh/git/simpeg/discretize/discretize/CylMesh.py\u001b[0m(422)\u001b[0;36medgeCurl\u001b[0;34m()\u001b[0m\n",
      "\u001b[0;32m    420 \u001b[0;31m                self._edgeCurl = (\n",
      "\u001b[0m\u001b[0;32m    421 \u001b[0;31m                    \u001b[0mutils\u001b[0m\u001b[0;34m.\u001b[0m\u001b[0msdiag\u001b[0m\u001b[0;34m(\u001b[0m\u001b[0;36m1\u001b[0m\u001b[0;34m/\u001b[0m\u001b[0mA\u001b[0m\u001b[0;34m)\u001b[0m \u001b[0;34m*\u001b[0m\u001b[0;34m\u001b[0m\u001b[0m\n",
      "\u001b[0m\u001b[0;32m--> 422 \u001b[0;31m                    \u001b[0msp\u001b[0m\u001b[0;34m.\u001b[0m\u001b[0mvstack\u001b[0m\u001b[0;34m(\u001b[0m\u001b[0;34m[\u001b[0m\u001b[0mCr\u001b[0m\u001b[0;34m,\u001b[0m \u001b[0mCt\u001b[0m\u001b[0;34m,\u001b[0m \u001b[0mCz\u001b[0m\u001b[0;34m]\u001b[0m\u001b[0;34m,\u001b[0m \u001b[0mformat\u001b[0m\u001b[0;34m=\u001b[0m\u001b[0;34m\"csr\"\u001b[0m\u001b[0;34m)\u001b[0m \u001b[0;34m*\u001b[0m\u001b[0;34m\u001b[0m\u001b[0m\n",
      "\u001b[0m\u001b[0;32m    423 \u001b[0;31m                    \u001b[0mutils\u001b[0m\u001b[0;34m.\u001b[0m\u001b[0msdiag\u001b[0m\u001b[0;34m(\u001b[0m\u001b[0mE\u001b[0m\u001b[0;34m)\u001b[0m\u001b[0;34m\u001b[0m\u001b[0m\n",
      "\u001b[0m\u001b[0;32m    424 \u001b[0;31m                )\n",
      "\u001b[0m\n",
      "ipdb> Cr.shape\n",
      "(16, 68)\n",
      "ipdb> Ct.shape\n",
      "(16, 66)\n",
      "ipdb> Cz.shape\n",
      "(24, 66)\n"
     ]
    }
   ],
   "source": [
    "%debug"
   ]
  },
  {
   "cell_type": "code",
   "execution_count": 280,
   "metadata": {
    "collapsed": true
   },
   "outputs": [],
   "source": [
    "from discretize.utils import kron3, ddx, speye, spzeros\n"
   ]
  },
  {
   "cell_type": "code",
   "execution_count": 281,
   "metadata": {
    "collapsed": false
   },
   "outputs": [
    {
     "name": "stdout",
     "output_type": "stream",
     "text": [
      "[2 4 1]\n",
      "[16 16  9]\n",
      "41\n"
     ]
    }
   ],
   "source": [
    "n = mesh.vnC\n",
    "print(n)\n",
    "print(mesh.vnE)\n",
    "print(mesh.nE)"
   ]
  },
  {
   "cell_type": "code",
   "execution_count": 282,
   "metadata": {
    "collapsed": false
   },
   "outputs": [
    {
     "data": {
      "text/plain": [
       "matrix([[-1.,  1.,  0.,  0.],\n",
       "        [ 0., -1.,  1.,  0.],\n",
       "        [ 0.,  0., -1.,  1.],\n",
       "        [ 1.,  0.,  0., -1.]])"
      ]
     },
     "execution_count": 282,
     "metadata": {},
     "output_type": "execute_result"
    }
   ],
   "source": [
    "ddxz = utils.ddx(mesh.nCy)[:,:-1] + sp.csr_matrix((np.r_[1.], (np.r_[mesh.nCy-1], np.r_[0])), shape=(mesh.nCy, mesh.nCy))\n",
    "\n",
    "ddxz.todense()"
   ]
  },
  {
   "cell_type": "code",
   "execution_count": 283,
   "metadata": {
    "collapsed": false
   },
   "outputs": [
    {
     "data": {
      "text/plain": [
       "8"
      ]
     },
     "execution_count": 283,
     "metadata": {},
     "output_type": "execute_result"
    }
   ],
   "source": [
    "mesh.vnE[2] - 1"
   ]
  },
  {
   "cell_type": "code",
   "execution_count": 284,
   "metadata": {
    "collapsed": false
   },
   "outputs": [
    {
     "name": "stdout",
     "output_type": "stream",
     "text": [
      "(8, 8)\n",
      "(8, 8)\n"
     ]
    }
   ],
   "source": [
    "print utils.ddx(mesh.vnE[2]-1)[:,:-1].shape\n",
    "print sp.csr_matrix((np.r_[1.], (np.r_[mesh.vnE[2] - 2], np.r_[0])), shape=(mesh.vnE[2] - 1, mesh.vnE[2] - 1)).shape"
   ]
  },
  {
   "cell_type": "code",
   "execution_count": 285,
   "metadata": {
    "collapsed": false
   },
   "outputs": [
    {
     "data": {
      "text/plain": [
       "(8, 16)"
      ]
     },
     "execution_count": 285,
     "metadata": {},
     "output_type": "execute_result"
    }
   ],
   "source": [
    "D32.shape"
   ]
  },
  {
   "cell_type": "code",
   "execution_count": 286,
   "metadata": {
    "collapsed": false
   },
   "outputs": [
    {
     "data": {
      "text/plain": [
       "(16, 18)"
      ]
     },
     "execution_count": 286,
     "metadata": {},
     "output_type": "execute_result"
    }
   ],
   "source": [
    "D23.shape"
   ]
  },
  {
   "cell_type": "code",
   "execution_count": 287,
   "metadata": {
    "collapsed": false
   },
   "outputs": [
    {
     "data": {
      "text/plain": [
       "(8, 16)"
      ]
     },
     "execution_count": 287,
     "metadata": {},
     "output_type": "execute_result"
    }
   ],
   "source": [
    "O1.shape"
   ]
  },
  {
   "cell_type": "code",
   "execution_count": 288,
   "metadata": {
    "collapsed": false
   },
   "outputs": [
    {
     "data": {
      "text/plain": [
       "array([ 8,  8, 16])"
      ]
     },
     "execution_count": 288,
     "metadata": {},
     "output_type": "execute_result"
    }
   ],
   "source": [
    "mesh.vnF"
   ]
  },
  {
   "cell_type": "code",
   "execution_count": 289,
   "metadata": {
    "collapsed": false
   },
   "outputs": [
    {
     "data": {
      "text/plain": [
       "array([2, 4, 1])"
      ]
     },
     "execution_count": 289,
     "metadata": {},
     "output_type": "execute_result"
    }
   ],
   "source": [
    "mesh.vnC"
   ]
  },
  {
   "cell_type": "code",
   "execution_count": 290,
   "metadata": {
    "collapsed": false
   },
   "outputs": [
    {
     "data": {
      "text/plain": [
       "array([16, 16,  9])"
      ]
     },
     "execution_count": 290,
     "metadata": {},
     "output_type": "execute_result"
    }
   ],
   "source": [
    "mesh.vnE"
   ]
  },
  {
   "cell_type": "code",
   "execution_count": 291,
   "metadata": {
    "collapsed": false
   },
   "outputs": [
    {
     "data": {
      "text/plain": [
       "<matplotlib.image.AxesImage at 0x11531d550>"
      ]
     },
     "execution_count": 291,
     "metadata": {},
     "output_type": "execute_result"
    },
    {
     "data": {
      "image/png": "[encoded data removed]",
      "text/plain": [
       "<matplotlib.figure.Figure at 0x11524a610>"
      ]
     },
     "metadata": {},
     "output_type": "display_data"
    }
   ],
   "source": [
    "plt.imshow(D32.todense(), interpolation='None')"
   ]
  },
  {
   "cell_type": "code",
   "execution_count": 292,
   "metadata": {
    "collapsed": false
   },
   "outputs": [
    {
     "data": {
      "text/plain": [
       "<matplotlib.image.AxesImage at 0x1154731d0>"
      ]
     },
     "execution_count": 292,
     "metadata": {},
     "output_type": "execute_result"
    },
    {
     "data": {
      "image/png": "[encoded data removed]",
      "text/plain": [
       "<matplotlib.figure.Figure at 0x115125e50>"
      ]
     },
     "metadata": {},
     "output_type": "display_data"
    }
   ],
   "source": [
    "plt.imshow(D23.todense(), interpolation='None')"
   ]
  },
  {
   "cell_type": "code",
   "execution_count": 293,
   "metadata": {
    "collapsed": false
   },
   "outputs": [
    {
     "data": {
      "text/plain": [
       "(8, 16)"
      ]
     },
     "execution_count": 293,
     "metadata": {},
     "output_type": "execute_result"
    }
   ],
   "source": [
    "O1.shape"
   ]
  },
  {
   "cell_type": "code",
   "execution_count": 294,
   "metadata": {
    "collapsed": false
   },
   "outputs": [
    {
     "data": {
      "text/plain": [
       "(4, 4)"
      ]
     },
     "execution_count": 294,
     "metadata": {},
     "output_type": "execute_result"
    }
   ],
   "source": [
    "ddxz.todense().shape"
   ]
  },
  {
   "cell_type": "code",
   "execution_count": 295,
   "metadata": {
    "collapsed": false
   },
   "outputs": [
    {
     "data": {
      "text/plain": [
       "(8, 16)"
      ]
     },
     "execution_count": 295,
     "metadata": {},
     "output_type": "execute_result"
    }
   ],
   "source": [
    "Dt_r.shape"
   ]
  },
  {
   "cell_type": "code",
   "execution_count": 296,
   "metadata": {
    "collapsed": false
   },
   "outputs": [
    {
     "data": {
      "text/plain": [
       "matrix([[ 0., -1.,  0.,  1.,  0.,  0.,  0.,  0.,  0.],\n",
       "        [ 0.,  0., -1.,  0.,  1.,  0.,  0.,  0.,  0.],\n",
       "        [ 0.,  0.,  0., -1.,  0.,  1.,  0.,  0.,  0.],\n",
       "        [ 0.,  0.,  0.,  0., -1.,  0.,  1.,  0.,  0.],\n",
       "        [ 0.,  0.,  0.,  0.,  0., -1.,  0.,  1.,  0.],\n",
       "        [ 0.,  0.,  0.,  0.,  0.,  0., -1.,  0.,  1.],\n",
       "        [ 0.,  1.,  0.,  0.,  0.,  0.,  0., -1.,  0.],\n",
       "        [ 0.,  0.,  1.,  0.,  0.,  0.,  0.,  0., -1.]])"
      ]
     },
     "execution_count": 296,
     "metadata": {},
     "output_type": "execute_result"
    }
   ],
   "source": [
    "Dz_r.todense()"
   ]
  },
  {
   "cell_type": "code",
   "execution_count": 297,
   "metadata": {
    "collapsed": false
   },
   "outputs": [],
   "source": [
    "ddxz = utils.ddx(mesh.nCy)[:,:-1] + sp.csr_matrix((np.r_[1.], (np.r_[mesh.nCy-1], np.r_[0])), shape=(mesh.nCy, mesh.nCy))\n",
    "ddxz = kron3(ddxz, speye(mesh.nCz), speye(mesh.nCx))\n",
    "\n",
    "Dz_r = sp.hstack([spzeros(mesh.vnE[2]-1, 1), ddxz])\n"
   ]
  },
  {
   "cell_type": "code",
   "execution_count": 298,
   "metadata": {
    "collapsed": false
   },
   "outputs": [
    {
     "data": {
      "text/plain": [
       "<matplotlib.image.AxesImage at 0x1155aad10>"
      ]
     },
     "execution_count": 298,
     "metadata": {},
     "output_type": "execute_result"
    },
    {
     "data": {
      "image/png": "[encoded data removed]",
      "text/plain": [
       "<matplotlib.figure.Figure at 0x115482350>"
      ]
     },
     "metadata": {},
     "output_type": "display_data"
    }
   ],
   "source": [
    "plt.imshow(Dz_r.todense(), interpolation='None')"
   ]
  },
  {
   "cell_type": "code",
   "execution_count": 299,
   "metadata": {
    "collapsed": false
   },
   "outputs": [],
   "source": [
    "Dt_r = kron3(ddx(n[2]), speye(n[1]), speye(n[0]))\n",
    "\n",
    "ddxz = utils.ddx(mesh.nCy)[:,:-1] + sp.csr_matrix((np.r_[1.], (np.r_[mesh.nCy-1], np.r_[0])), shape=(mesh.nCy, mesh.nCy))\n",
    "ddxz = kron3(ddxz, speye(mesh.nCz), speye(mesh.nCx))\n",
    "\n",
    "Dz_r = sp.hstack([spzeros(mesh.vnE[2]-1, 1), ddxz])\n",
    "# Dz_r = kron3(speye(n[2]), ddxz, speye(n[0]))\n",
    "O1 = spzeros(mesh.nFx, mesh.nEx)\n",
    "Cr = sp.hstack((O1, -Dt_r, Dz_r))\n",
    "\n"
   ]
  },
  {
   "cell_type": "code",
   "execution_count": 300,
   "metadata": {
    "collapsed": false
   },
   "outputs": [
    {
     "data": {
      "text/plain": [
       "<matplotlib.image.AxesImage at 0x115808150>"
      ]
     },
     "execution_count": 300,
     "metadata": {},
     "output_type": "execute_result"
    },
    {
     "data": {
      "image/png": "[encoded data removed]",
      "text/plain": [
       "<matplotlib.figure.Figure at 0x115705e90>"
      ]
     },
     "metadata": {},
     "output_type": "display_data"
    }
   ],
   "source": [
    "plt.imshow(Cr.todense(), interpolation='None')"
   ]
  },
  {
   "cell_type": "code",
   "execution_count": 301,
   "metadata": {
    "collapsed": false
   },
   "outputs": [
    {
     "data": {
      "text/plain": [
       "array([ 8,  8, 16])"
      ]
     },
     "execution_count": 301,
     "metadata": {},
     "output_type": "execute_result"
    }
   ],
   "source": [
    "mesh.vnF"
   ]
  },
  {
   "cell_type": "code",
   "execution_count": 302,
   "metadata": {
    "collapsed": false
   },
   "outputs": [
    {
     "data": {
      "text/plain": [
       "matrix([[ 1.,  0.],\n",
       "        [ 0.,  1.]])"
      ]
     },
     "execution_count": 302,
     "metadata": {},
     "output_type": "execute_result"
    }
   ],
   "source": [
    "# need to say \"all of these z-edges are the same\"\n",
    "# ddx(n[2]).todense()\n",
    "speye(n[0]).todense()"
   ]
  },
  {
   "cell_type": "code",
   "execution_count": 303,
   "metadata": {
    "collapsed": false
   },
   "outputs": [
    {
     "name": "stdout",
     "output_type": "stream",
     "text": [
      "(8, 41)\n"
     ]
    },
    {
     "data": {
      "text/plain": [
       "<matplotlib.image.AxesImage at 0x1159030d0>"
      ]
     },
     "execution_count": 303,
     "metadata": {},
     "output_type": "execute_result"
    },
    {
     "data": {
      "image/png": "[encoded data removed]",
      "text/plain": [
       "<matplotlib.figure.Figure at 0x1158168d0>"
      ]
     },
     "metadata": {},
     "output_type": "display_data"
    }
   ],
   "source": [
    "print(Cr.shape)\n",
    "plt.imshow(Cr.todense(), interpolation='None')"
   ]
  },
  {
   "cell_type": "code",
   "execution_count": 304,
   "metadata": {
    "collapsed": false
   },
   "outputs": [
    {
     "data": {
      "text/plain": [
       "array([ 8,  8, 16])"
      ]
     },
     "execution_count": 304,
     "metadata": {},
     "output_type": "execute_result"
    }
   ],
   "source": [
    "mesh.vnF"
   ]
  },
  {
   "cell_type": "code",
   "execution_count": 368,
   "metadata": {
    "collapsed": false
   },
   "outputs": [],
   "source": [
    "Dr_t = kron3(ddx(n[2]), speye(n[1]), speye(n[0]))\n",
    "O2 = spzeros(mesh.nFy, mesh.nEy)\n",
    "ddxr = utils.ddx(mesh.nCx)\n",
    "Ddxr = sp.kron(speye(mesh.nCy), ddxr[:,1:])\n",
    "wrap_z = sp.csr_matrix((-1*np.ones(mesh.nCy), (np.arange(0, mesh.vnC[:2].prod(), step=mesh.vnC[0]), np.zeros(mesh.nCy))), shape=(mesh.vnC[:2].prod(), 1)) \n",
    "Dz_t = sp.kron(speye(mesh.nCz), sp.hstack([wrap_z, Ddxr]))\n",
    "Ct = sp.hstack((Dr_t, O2, -Dz_t))"
   ]
  },
  {
   "cell_type": "code",
   "execution_count": 370,
   "metadata": {
    "collapsed": false,
    "scrolled": true
   },
   "outputs": [
    {
     "data": {
      "text/plain": [
       "<matplotlib.image.AxesImage at 0x115b7c190>"
      ]
     },
     "execution_count": 370,
     "metadata": {},
     "output_type": "execute_result"
    },
    {
     "data": {
      "image/png": "[encoded data removed]",
      "text/plain": [
       "<matplotlib.figure.Figure at 0x1159f2f50>"
      ]
     },
     "metadata": {},
     "output_type": "display_data"
    }
   ],
   "source": [
    "plt.imshow(Ct.todense(), interpolation='None')"
   ]
  },
  {
   "cell_type": "code",
   "execution_count": 404,
   "metadata": {
    "collapsed": false
   },
   "outputs": [],
   "source": [
    "ddxr = sp.kron(utils.ddx(mesh.nCy), speye(mesh.nCx))\n",
    "# wrap the matrix\n",
    "Ddxr = ddxr.tocsc()[:,:-mesh.nCx]\n",
    "# Ddxr = ddxr[:,:4]# mesh.vnC[:2].prod()-mesh.nCx]"
   ]
  },
  {
   "cell_type": "code",
   "execution_count": 414,
   "metadata": {
    "collapsed": false
   },
   "outputs": [],
   "source": [
    "ddxz = utils.ddx(mesh.nCy)[:,:-1] + sp.csr_matrix((np.r_[1.], (np.r_[mesh.nCy-1], np.r_[0])), shape=(mesh.nCy, mesh.nCy))\n",
    "ddxz = kron3(ddxz, speye(mesh.nCz), speye(mesh.nCx))\n",
    "Dr_z = sp.kron(speye(mesh.nCz+1), ddxz)"
   ]
  },
  {
   "cell_type": "code",
   "execution_count": 415,
   "metadata": {
    "collapsed": false
   },
   "outputs": [
    {
     "data": {
      "text/plain": [
       "<matplotlib.image.AxesImage at 0x1186ece90>"
      ]
     },
     "execution_count": 415,
     "metadata": {},
     "output_type": "execute_result"
    },
    {
     "data": {
      "image/png": "[encoded data removed]",
      "text/plain": [
       "<matplotlib.figure.Figure at 0x1184de250>"
      ]
     },
     "metadata": {},
     "output_type": "display_data"
    }
   ],
   "source": [
    "plt.imshow(Dr_z.todense(), interpolation='None')"
   ]
  },
  {
   "cell_type": "code",
   "execution_count": 427,
   "metadata": {
    "collapsed": false
   },
   "outputs": [],
   "source": [
    "ddxt = utils.ddx(mesh.nCx)[:,1:]\n",
    "Dt_z = kron3(speye(mesh.nCz+1), speye(mesh.nCy), ddxt)\n"
   ]
  },
  {
   "cell_type": "code",
   "execution_count": 428,
   "metadata": {
    "collapsed": false
   },
   "outputs": [
    {
     "data": {
      "text/plain": [
       "<matplotlib.image.AxesImage at 0x1192896d0>"
      ]
     },
     "execution_count": 428,
     "metadata": {},
     "output_type": "execute_result"
    },
    {
     "data": {
      "image/png": "[encoded data removed]",
      "text/plain": [
       "<matplotlib.figure.Figure at 0x119066950>"
      ]
     },
     "metadata": {},
     "output_type": "display_data"
    }
   ],
   "source": [
    "plt.imshow(Dt_z.todense(), interpolation='None')"
   ]
  },
  {
   "cell_type": "code",
   "execution_count": 382,
   "metadata": {
    "collapsed": false
   },
   "outputs": [
    {
     "data": {
      "text/plain": [
       "<matplotlib.image.AxesImage at 0x1178c7610>"
      ]
     },
     "execution_count": 382,
     "metadata": {},
     "output_type": "execute_result"
    },
    {
     "data": {
      "image/png": "[encoded data removed]",
      "text/plain": [
       "<matplotlib.figure.Figure at 0x116e84e90>"
      ]
     },
     "metadata": {},
     "output_type": "display_data"
    }
   ],
   "source": [
    "plt.imshow(Dr_z.todense(), interpolation='None')"
   ]
  },
  {
   "cell_type": "code",
   "execution_count": 436,
   "metadata": {
    "collapsed": false
   },
   "outputs": [
    {
     "data": {
      "text/plain": [
       "(16,)"
      ]
     },
     "execution_count": 436,
     "metadata": {},
     "output_type": "execute_result"
    }
   ],
   "source": [
    "np.kron(np.ones(mesh.vnC[2]+1), np.kron(np.ones(mesh.vnC[1]), mesh.hx)).shape"
   ]
  },
  {
   "cell_type": "code",
   "execution_count": 440,
   "metadata": {
    "collapsed": false
   },
   "outputs": [
    {
     "data": {
      "text/plain": [
       "array([ 1.57079633,  3.14159265,  1.57079633,  3.14159265,  1.57079633,\n",
       "        3.14159265,  1.57079633,  3.14159265,  1.57079633,  3.14159265,\n",
       "        1.57079633,  3.14159265,  1.57079633,  3.14159265,  1.57079633,\n",
       "        3.14159265])"
      ]
     },
     "execution_count": 440,
     "metadata": {},
     "output_type": "execute_result"
    }
   ],
   "source": [
    "np.kron(np.ones(mesh.vnC[2]+1), np.kron(mesh.hy, mesh.vectorNx[1:]))"
   ]
  },
  {
   "cell_type": "code",
   "execution_count": 443,
   "metadata": {
    "collapsed": false
   },
   "outputs": [
    {
     "data": {
      "text/plain": [
       "(9,)"
      ]
     },
     "execution_count": 443,
     "metadata": {},
     "output_type": "execute_result"
    }
   ],
   "source": [
    "np.kron(mesh.hz, np.ones(mesh.vnC[:2].prod()+1)).shape"
   ]
  },
  {
   "cell_type": "code",
   "execution_count": 441,
   "metadata": {
    "collapsed": false
   },
   "outputs": [
    {
     "data": {
      "text/plain": [
       "array([2, 4, 1])"
      ]
     },
     "execution_count": 441,
     "metadata": {},
     "output_type": "execute_result"
    }
   ],
   "source": [
    "mesh.vnC"
   ]
  },
  {
   "cell_type": "code",
   "execution_count": 28,
   "metadata": {
    "collapsed": true
   },
   "outputs": [],
   "source": [
    "D21 = kron3(speye(n[2]+1), ddx(n[1]), speye(n[0]))\n",
    "D12 = kron3(speye(n[2]+1), speye(n[1]), ddx(n[0]))\n",
    "O3 = spzeros(np.shape(D21)[0], np.shape(D13)[1])\n",
    "Cz = sp.hstack((-D21, D12, O3))"
   ]
  },
  {
   "cell_type": "code",
   "execution_count": 33,
   "metadata": {
    "collapsed": false
   },
   "outputs": [
    {
     "data": {
      "text/plain": [
       "matrix([[-1.,  1.]])"
      ]
     },
     "execution_count": 33,
     "metadata": {},
     "output_type": "execute_result"
    }
   ],
   "source": [
    "ddx(n[2]).todense()"
   ]
  },
  {
   "cell_type": "code",
   "execution_count": 351,
   "metadata": {
    "collapsed": false
   },
   "outputs": [
    {
     "data": {
      "text/plain": [
       "(8, 1)"
      ]
     },
     "execution_count": 351,
     "metadata": {},
     "output_type": "execute_result"
    }
   ],
   "source": [
    "(mesh.vnC[:2].prod(), 1)"
   ]
  },
  {
   "cell_type": "code",
   "execution_count": 30,
   "metadata": {
    "collapsed": false
   },
   "outputs": [],
   "source": [
    "C = sp.vstack((Cr,\n",
    "               Ct,\n",
    "               Cz), format=\"csr\")"
   ]
  },
  {
   "cell_type": "code",
   "execution_count": 12,
   "metadata": {
    "collapsed": false
   },
   "outputs": [
    {
     "data": {
      "text/plain": [
       "<matplotlib.image.AxesImage at 0x10c1f00d0>"
      ]
     },
     "execution_count": 12,
     "metadata": {},
     "output_type": "execute_result"
    },
    {
     "data": {
      "image/png": "[encoded data removed]",
      "text/plain": [
       "<matplotlib.figure.Figure at 0x10bd27290>"
      ]
     },
     "metadata": {},
     "output_type": "display_data"
    }
   ],
   "source": [
    "plt.imshow(C.todense(), interpolation='None')"
   ]
  },
  {
   "cell_type": "code",
   "execution_count": 145,
   "metadata": {
    "collapsed": false
   },
   "outputs": [
    {
     "data": {
      "text/plain": [
       "array([8, 8, 5])"
      ]
     },
     "execution_count": 145,
     "metadata": {},
     "output_type": "execute_result"
    }
   ],
   "source": [
    "mesh.vnE"
   ]
  },
  {
   "cell_type": "code",
   "execution_count": 51,
   "metadata": {
    "collapsed": false
   },
   "outputs": [
    {
     "data": {
      "text/plain": [
       "array([ 0.78539816,  0.78539816,  0.78539816,  0.78539816])"
      ]
     },
     "execution_count": 51,
     "metadata": {},
     "output_type": "execute_result"
    }
   ],
   "source": [
    "mesh.vol"
   ]
  },
  {
   "cell_type": "code",
   "execution_count": 50,
   "metadata": {
    "collapsed": false
   },
   "outputs": [
    {
     "data": {
      "text/plain": [
       "array([ 0.78539816])"
      ]
     },
     "execution_count": 50,
     "metadata": {},
     "output_type": "execute_result"
    }
   ],
   "source": [
    "np.pi*mesh.hx**2*mesh.hz/4"
   ]
  },
  {
   "cell_type": "code",
   "execution_count": 14,
   "metadata": {
    "collapsed": false
   },
   "outputs": [
    {
     "data": {
      "text/plain": [
       "array([4, 4, 8])"
      ]
     },
     "execution_count": 14,
     "metadata": {},
     "output_type": "execute_result"
    }
   ],
   "source": [
    "mesh.vnF"
   ]
  },
  {
   "cell_type": "code",
   "execution_count": 16,
   "metadata": {
    "collapsed": false
   },
   "outputs": [
    {
     "data": {
      "text/plain": [
       "array([ 1.])"
      ]
     },
     "execution_count": 16,
     "metadata": {},
     "output_type": "execute_result"
    }
   ],
   "source": [
    "mesh.hx"
   ]
  },
  {
   "cell_type": "code",
   "execution_count": 17,
   "metadata": {
    "collapsed": false
   },
   "outputs": [
    {
     "data": {
      "text/plain": [
       "array([ 1.])"
      ]
     },
     "execution_count": 17,
     "metadata": {},
     "output_type": "execute_result"
    }
   ],
   "source": [
    "mesh.hz"
   ]
  },
  {
   "cell_type": "code",
   "execution_count": 18,
   "metadata": {
    "collapsed": false
   },
   "outputs": [
    {
     "data": {
      "text/plain": [
       "array([ 1.57079633,  1.57079633,  1.57079633,  1.57079633,  1.        ,\n",
       "        1.        ,  1.        ,  1.        ,  1.57079633,  1.57079633,\n",
       "        1.57079633,  1.57079633,  1.57079633,  1.57079633,  1.57079633,\n",
       "        1.57079633])"
      ]
     },
     "execution_count": 18,
     "metadata": {},
     "output_type": "execute_result"
    }
   ],
   "source": [
    "mesh.area"
   ]
  },
  {
   "cell_type": "code",
   "execution_count": 10,
   "metadata": {
    "collapsed": false
   },
   "outputs": [
    {
     "ename": "NotImplementedError",
     "evalue": "Wrapping the utils.ddx is not yet implemented.",
     "output_type": "error",
     "traceback": [
      "\u001b[0;31m---------------------------------------------------------------------------\u001b[0m",
      "\u001b[0;31mNotImplementedError\u001b[0m                       Traceback (most recent call last)",
      "\u001b[0;32m<ipython-input-10-146458cb4491>\u001b[0m in \u001b[0;36m<module>\u001b[0;34m()\u001b[0m\n\u001b[0;32m----> 1\u001b[0;31m \u001b[0mmesh\u001b[0m\u001b[0;34m.\u001b[0m\u001b[0mfaceDiv\u001b[0m\u001b[0;34m\u001b[0m\u001b[0m\n\u001b[0m",
      "\u001b[0;32m/Users/lindseyjh/git/simpeg/discretize/discretize/CylMesh.py\u001b[0m in \u001b[0;36mfaceDiv\u001b[0;34m(self)\u001b[0m\n\u001b[1;32m    207\u001b[0m                 \u001b[0mD\u001b[0m \u001b[0;34m=\u001b[0m \u001b[0msp\u001b[0m\u001b[0;34m.\u001b[0m\u001b[0mhstack\u001b[0m\u001b[0;34m(\u001b[0m\u001b[0;34m(\u001b[0m\u001b[0mD1\u001b[0m\u001b[0;34m,\u001b[0m \u001b[0mD3\u001b[0m\u001b[0;34m)\u001b[0m\u001b[0;34m,\u001b[0m \u001b[0mformat\u001b[0m\u001b[0;34m=\u001b[0m\u001b[0;34m\"csr\"\u001b[0m\u001b[0;34m)\u001b[0m\u001b[0;34m\u001b[0m\u001b[0m\n\u001b[1;32m    208\u001b[0m             \u001b[0;32melif\u001b[0m \u001b[0mself\u001b[0m\u001b[0;34m.\u001b[0m\u001b[0mnCy\u001b[0m \u001b[0;34m>\u001b[0m \u001b[0;36m1\u001b[0m\u001b[0;34m:\u001b[0m\u001b[0;34m\u001b[0m\u001b[0m\n\u001b[0;32m--> 209\u001b[0;31m                 \u001b[0mD2\u001b[0m \u001b[0;34m=\u001b[0m \u001b[0mself\u001b[0m\u001b[0;34m.\u001b[0m\u001b[0mfaceDivy\u001b[0m\u001b[0;34m\u001b[0m\u001b[0m\n\u001b[0m\u001b[1;32m    210\u001b[0m                 \u001b[0mD\u001b[0m \u001b[0;34m=\u001b[0m \u001b[0msp\u001b[0m\u001b[0;34m.\u001b[0m\u001b[0mhstack\u001b[0m\u001b[0;34m(\u001b[0m\u001b[0;34m(\u001b[0m\u001b[0mD1\u001b[0m\u001b[0;34m,\u001b[0m \u001b[0mD2\u001b[0m\u001b[0;34m,\u001b[0m \u001b[0mD3\u001b[0m\u001b[0;34m)\u001b[0m\u001b[0;34m,\u001b[0m \u001b[0mformat\u001b[0m\u001b[0;34m=\u001b[0m\u001b[0;34m\"csr\"\u001b[0m\u001b[0;34m)\u001b[0m\u001b[0;34m\u001b[0m\u001b[0m\n\u001b[1;32m    211\u001b[0m             \u001b[0mself\u001b[0m\u001b[0;34m.\u001b[0m\u001b[0m_faceDiv\u001b[0m \u001b[0;34m=\u001b[0m \u001b[0mD\u001b[0m\u001b[0;34m\u001b[0m\u001b[0m\n",
      "\u001b[0;32m/Users/lindseyjh/git/simpeg/discretize/discretize/CylMesh.py\u001b[0m in \u001b[0;36mfaceDivy\u001b[0;34m(self)\u001b[0m\n\u001b[1;32m    232\u001b[0m         \u001b[0;34m(\u001b[0m\u001b[0mface\u001b[0m\u001b[0;34m-\u001b[0m\u001b[0mstg\u001b[0m \u001b[0mto\u001b[0m \u001b[0mcell\u001b[0m\u001b[0;34m-\u001b[0m\u001b[0mcentres\u001b[0m\u001b[0;34m)\u001b[0m\u001b[0;34m.\u001b[0m\u001b[0;34m\u001b[0m\u001b[0m\n\u001b[1;32m    233\u001b[0m         \"\"\"\n\u001b[0;32m--> 234\u001b[0;31m         raise NotImplementedError('Wrapping the utils.ddx is not yet '\n\u001b[0m\u001b[1;32m    235\u001b[0m                                   'implemented.')\n\u001b[1;32m    236\u001b[0m         \u001b[0;32mif\u001b[0m \u001b[0mgetattr\u001b[0m\u001b[0;34m(\u001b[0m\u001b[0mself\u001b[0m\u001b[0;34m,\u001b[0m \u001b[0;34m'_faceDivy'\u001b[0m\u001b[0;34m,\u001b[0m \u001b[0mNone\u001b[0m\u001b[0;34m)\u001b[0m \u001b[0;32mis\u001b[0m \u001b[0mNone\u001b[0m\u001b[0;34m:\u001b[0m\u001b[0;34m\u001b[0m\u001b[0m\n",
      "\u001b[0;31mNotImplementedError\u001b[0m: Wrapping the utils.ddx is not yet implemented."
     ]
    }
   ],
   "source": [
    "mesh.faceDiv"
   ]
  },
  {
   "cell_type": "code",
   "execution_count": 21,
   "metadata": {
    "collapsed": false
   },
   "outputs": [],
   "source": [
    "x = np.linspace(0, 100)/100"
   ]
  },
  {
   "cell_type": "code",
   "execution_count": 70,
   "metadata": {
    "collapsed": false
   },
   "outputs": [],
   "source": [
    "Vp = 0.1 + x**2\n",
    "Vs = Vp + 0.2*np.exp(-(x - 0.4)**2/0.04)"
   ]
  },
  {
   "cell_type": "code",
   "execution_count": 103,
   "metadata": {
    "collapsed": false
   },
   "outputs": [
    {
     "data": {
      "image/png": "[encoded data removed]",
      "text/plain": [
       "<matplotlib.figure.Figure at 0x1181f3390>"
      ]
     },
     "metadata": {},
     "output_type": "display_data"
    }
   ],
   "source": [
    "fig, ax = plt.subplots(1,1)\n",
    "ax.plot(10*x,Vp, 'b--')\n",
    "ax.plot(10*x,Vs, 'r')\n",
    "ax.grid(which='both', linestyle='-', color=[0.5, 0.5, 0.5], linewidth=0.2)\n",
    "ax.set_xlabel('distance', fontsize=14)\n",
    "ax.set_ylabel('potential (V)', fontsize=14)\n",
    "ax.legend(['$V_p$ (without target)', '$V$  (with target)'], loc='best', fontsize=14)\n",
    "ax.fill_between(10*x, np.zeros_like(x), 0.05, color=[0.5, 0.5, 0.5], alpha=0.5)\n",
    "# ax.set_yticklabels('')\n",
    "# ax.set_xticklabels('')\n",
    "\n",
    "ind = 22\n",
    "x1, y1 = 10*x[ind], Vp[ind]\n",
    "x2, y2 = 10*x[ind], Vs[ind]\n",
    "ax.annotate(\"\",\n",
    "                xy=(x1, y1), xycoords='data',\n",
    "                xytext=(x2, y2), textcoords='data',\n",
    "                arrowprops=dict(arrowstyle=\"<->\", #linestyle=\"dashed\",\n",
    "                                color=\"k\",\n",
    "                                shrinkA=5, shrinkB=5,\n",
    "                                patchA=None,\n",
    "                                patchB=None,\n",
    "#                                 connectionstyle=connectionstyle,\n",
    "                                ),\n",
    "         )\n",
    "ax.annotate(\"$\\Delta V$\",\n",
    "                xy=(x1, y1), xycoords='data',\n",
    "                xytext=(x2-0.8, 0.5*(y1+y2)-0.02), textcoords='data', fontsize=13\n",
    "         )\n",
    "ax.annotate(\"noise floor\", xy=(7.8, 0.06), fontsize=13)\n",
    "fig.savefig('DCdata.png', dpi=300)"
   ]
  },
  {
   "cell_type": "code",
   "execution_count": null,
   "metadata": {
    "collapsed": true
   },
   "outputs": [],
   "source": []
  },
  {
   "cell_type": "code",
   "execution_count": null,
   "metadata": {
    "collapsed": true
   },
   "outputs": [],
   "source": []
  }
 ],
 "metadata": {
  "anaconda-cloud": {},
  "kernelspec": {
   "display_name": "Python [default]",
   "language": "python",
   "name": "python2"
  },
  "language_info": {
   "codemirror_mode": {
    "name": "ipython",
    "version": 2
   },
   "file_extension": ".py",
   "mimetype": "text/x-python",
   "name": "python",
   "nbconvert_exporter": "python",
   "pygments_lexer": "ipython2",
   "version": "2.7.12"
  }
 },
 "nbformat": 4,
 "nbformat_minor": 1
}
